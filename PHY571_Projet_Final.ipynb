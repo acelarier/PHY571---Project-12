{
 "cells": [
  {
   "cell_type": "markdown",
   "metadata": {
    "id": "ey2hcn87uBwi"
   },
   "source": [
    "12/ Bird \u001d",
    "flocking and swarm intelligence "
   ]
  },
  {
   "cell_type": "markdown",
   "metadata": {
    "id": "uK6-VPw7un3e"
   },
   "source": [
    "Bibliography :\n",
    "[1] T. Vicsek, A. Czirok, E. Ben-Jacob, I. Cohen, and O. Sho chet, Phys. Rev. Lett. 75, (1995)\n",
    "1226. Novel Typ e of Phase Transition in a System of Self-Driven Particles."
   ]
  },
  {
   "cell_type": "markdown",
   "metadata": {
    "id": "_fL95Nsnz0nj"
   },
   "source": [
    "What we want to do ? What are the questions we want to adress ?\n",
    "\n",
    "Steps :\n",
    "1. Reproduce the result from [1] (page 2)\n",
    "2. Accelerate the algorithm (initially in N^2, N being the number of birds) using partition in subboxes\n",
    "3. Introduce more complexity (walls, obstacles, direction)\n",
    "\n",
    "Reproductibility\n",
    "\n",
    "Separate the data we collect and the analysis of them. (si probleme d'affichage, pas besoin de refaire les simulations) #\n",
    "- design (notebook)\n",
    "- production (python => create .dat files)\n",
    "- analysis (juptyer notebook => pdf)\n",
    "\n",
    "Use many comments + documents the function, classes\n",
    "\n",
    "14/12 : oral presentation"
   ]
  },
  {
   "cell_type": "markdown",
   "metadata": {
    "id": "BsnRwfB5uwsP"
   },
   "source": [
    "I. Modelisation"
   ]
  },
  {
   "cell_type": "code",
   "execution_count": 141,
   "metadata": {
    "id": "zhI3mhbXHMVn"
   },
   "outputs": [],
   "source": [
    "\"Everything we need to import is imported there.\"\n",
    "\n",
    "import numpy as np\n",
    "import random\n",
    "import math\n",
    "\n",
    "#%matplotlib notebook\n",
    "import matplotlib.pyplot as plt\n",
    "import matplotlib.animation as animation"
   ]
  },
  {
   "cell_type": "code",
   "execution_count": 144,
   "metadata": {
    "id": "1LeKTuoct7UF"
   },
   "outputs": [],
   "source": [
    "class particle:\n",
    "    \"\"\"A class that define a particule (a bird) by his position and oriented speed.\n",
    "        \"\"\"\n",
    "\n",
    "    def __init__(self, position, speed, orientation, noise, boxSize):\n",
    "        self.pos = position\n",
    "        self.v = speed\n",
    "        self.theta = orientation\n",
    "        self.eta = noise\n",
    "        self.L = boxSize\n",
    "\n",
    "    def updateOrientation(self, neighbors):\n",
    "    #calculus of the average direction of the velocities of particles being within a circle of radius r surrounding the given particle (neighbors).\n",
    "        averageNeighborsOrientation = 0\n",
    "        neighborsNumber = len(neighbors)\n",
    "        for neighbor in neighbors :\n",
    "            averageNeighborsOrientation += neighbor.theta\n",
    "        averageNeighborsOrientation = averageNeighborsOrientation / neighborsNumber\n",
    "        self.theta = averageNeighborsOrientation + random.uniform(-self.eta/2,self.eta/2)\n",
    "        self.theta = self.theta%(2*math.pi)\n",
    "\n",
    "\n",
    "    def updatePosition(self):\n",
    "    #it is assumed that the time unit between two updates is the unit of time.\n",
    "        self.pos[0]+=np.cos(self.theta)*self.v\n",
    "        self.pos[1]+=np.sin(self.theta)*self.v\n",
    "        for i in range(2):\n",
    "            if self.pos[i]>self.L :\n",
    "                self.pos[i]-=self.L\n",
    "            if self.pos[i]<0 :\n",
    "                self.pos[i]+=self.L\n",
    "\n",
    "\n",
    "\n"
   ]
  },
  {
   "cell_type": "code",
   "execution_count": 147,
   "metadata": {
    "id": "ObCcHCObDu6I"
   },
   "outputs": [],
   "source": [
    "class Simulation:\n",
    "    \"\"\"A class that compute a simulation of particules interacting with their neighboors and moving within a box.\n",
    "    The box has periodic boundary counditions.\n",
    "        \"\"\"\n",
    "\n",
    "    def __init__(self, numberParticles, interactionRadius, boxSize, noise, speed):\n",
    "        self.N = numberParticles\n",
    "        self.R = interactionRadius\n",
    "        self.L = boxSize\n",
    "        self.eta = noise\n",
    "        self.speed = speed\n",
    "        self.particles = list()\n",
    "\n",
    "    def initialisation(self) :\n",
    "        for i in range(self.N) :\n",
    "            self.particles.append(particle(np.array([random.uniform(0,self.L), random.uniform(0,self.L)]), self.speed, random.uniform(0,2*np.pi), self.eta, self.L))\n",
    "\n",
    "    def getNeighbors(self, particle):\n",
    "        neighbors = []\n",
    "        for i in range(self.N) :\n",
    "            particle_i = self.particles[i]\n",
    "            distance = np.linalg.norm(particle_i.pos - particle.pos)\n",
    "            if distance <= self.R :\n",
    "                neighbors.append(particle_i)\n",
    "        return neighbors\n",
    "    \n",
    "    def update(self):\n",
    "        for i in range(self.N):\n",
    "            neighbors = self.getNeighbors(self.particles[i])\n",
    "            self.particles[i].updateOrientation(neighbors)\n",
    "        for i in range(self.N):\n",
    "            self.particles[i].updatePosition()\n"
   ]
  },
  {
   "cell_type": "markdown",
   "metadata": {
    "id": "-gEkSn4zF1mn"
   },
   "source": [
    "Now that we have build the library that we will use to model the flight of our birds, we can use them. As the flight is computed, he is plot with an animation.\n",
    "To begin with, we will test our code, by initilising a simulation with five birds in a box."
   ]
  },
  {
   "cell_type": "code",
   "execution_count": null,
   "metadata": {
    "colab": {
     "base_uri": "https://localhost:8080/",
     "height": 202
    },
    "id": "qJJ_QMXAPwJz",
    "outputId": "c85b1c6a-07de-4f0f-9e15-a1085b23d6f9"
   },
   "outputs": [],
   "source": [
    "%matplotlib notebook\n",
    "import matplotlib.pyplot as plt\n",
    "\n",
    "#Initialisation\n",
    "numberParticles = 5\n",
    "interactionRadius=1\n",
    "boxSize = 10\n",
    "noise = 0.5\n",
    "speed = 1\n",
    "simulation = Simulation(numberParticles, interactionRadius, boxSize, noise, speed)\n",
    "simulation.initialisation()\n",
    "\n",
    "positionsX=[]\n",
    "positionsY=[]\n",
    "\n",
    "for i in range(simulation.N) :\n",
    "    bird = simulation.particles[i]\n",
    "    positionsX.append(bird.pos[0])\n",
    "    positionsY.append(bird.pos[1])\n",
    "\n",
    "plt.plot(positionsX, positionsY, 'bo', ms=15)\n",
    "plt.xlim(0,10)\n",
    "plt.ylim(0,10)\n",
    "plt.show()"
   ]
  },
  {
   "cell_type": "markdown",
   "metadata": {},
   "source": [
    "Let's plot the trajectory of the birds."
   ]
  },
  {
   "cell_type": "markdown",
   "metadata": {},
   "source": [
    "situation a of the article."
   ]
  },
  {
   "cell_type": "code",
   "execution_count": null,
   "metadata": {},
   "outputs": [],
   "source": [
    "#Initialisation\n",
    "numberParticles = 300\n",
    "interactionRadius=1\n",
    "boxSize = 7\n",
    "noise = 2\n",
    "speed = 0.05\n",
    "simulation = Simulation(numberParticles, interactionRadius, boxSize, noise, speed)\n",
    "simulation.initialisation()\n",
    "\n",
    "\n",
    "trajectoryx = []\n",
    "trajectoryy = []\n",
    "for i in range(50):\n",
    "    for j in range(simulation.N) :\n",
    "        bird = simulation.particles[j]\n",
    "        if i>40:\n",
    "            plt.plot(bird.pos[0], bird.pos[1], 'bo', ms=5)\n",
    "    simulation.update()\n",
    "\n",
    "    \n",
    "plt.xlim(0,boxSize)\n",
    "plt.ylim(0,boxSize)"
   ]
  },
  {
   "cell_type": "markdown",
   "metadata": {},
   "source": [
    "situation b of the article."
   ]
  },
  {
   "cell_type": "code",
   "execution_count": null,
   "metadata": {},
   "outputs": [],
   "source": [
    "#Initialisation\n",
    "numberParticles = 300\n",
    "interactionRadius=1\n",
    "boxSize = 25\n",
    "noise = 0.1\n",
    "speed = 0.05\n",
    "simulation = Simulation(numberParticles, interactionRadius, boxSize, noise, speed)\n",
    "simulation.initialisation()\n",
    "\n",
    "\n",
    "trajectoryx = []\n",
    "trajectoryy = []\n",
    "for i in range(50):\n",
    "    for j in range(simulation.N) :\n",
    "        bird = simulation.particles[j]\n",
    "        if i>40:\n",
    "            plt.plot(bird.pos[0], bird.pos[1], 'bo', ms=5)\n",
    "    simulation.update()\n",
    "\n",
    "    \n",
    "plt.xlim(0,boxSize)\n",
    "plt.ylim(0,boxSize)"
   ]
  },
  {
   "cell_type": "markdown",
   "metadata": {},
   "source": [
    "situation c of the article."
   ]
  },
  {
   "cell_type": "code",
   "execution_count": null,
   "metadata": {},
   "outputs": [],
   "source": [
    "#Initialisation\n",
    "numberParticles = 300\n",
    "interactionRadius=1\n",
    "boxSize = 25\n",
    "noise = 2\n",
    "speed = 0.05\n",
    "simulation = Simulation(numberParticles, interactionRadius, boxSize, noise, speed)\n",
    "simulation.initialisation()\n",
    "\n",
    "\n",
    "trajectoryx = []\n",
    "trajectoryy = []\n",
    "for i in range(50):\n",
    "    for j in range(simulation.N) :\n",
    "        bird = simulation.particles[j]\n",
    "        if i>40:\n",
    "            plt.plot(bird.pos[0], bird.pos[1], 'bo', ms=5)\n",
    "    simulation.update()\n",
    "\n",
    "    \n",
    "plt.xlim(0,boxSize)\n",
    "plt.ylim(0,boxSize)"
   ]
  },
  {
   "cell_type": "markdown",
   "metadata": {},
   "source": [
    "situation d of the article."
   ]
  },
  {
   "cell_type": "code",
   "execution_count": null,
   "metadata": {},
   "outputs": [],
   "source": [
    "#Initialisation\n",
    "numberParticles = 100\n",
    "interactionRadius=1\n",
    "boxSize = 5\n",
    "noise = 0.1\n",
    "speed = 0.05\n",
    "simulation = Simulation(numberParticles, interactionRadius, boxSize, noise, speed)\n",
    "simulation.initialisation()\n",
    "\n",
    "\n",
    "trajectoryx = []\n",
    "trajectoryy = []\n",
    "for i in range(50):\n",
    "    for j in range(simulation.N) :\n",
    "        bird = simulation.particles[j]\n",
    "        if i>40:\n",
    "            plt.plot(bird.pos[0], bird.pos[1], 'bo', ms=5)\n",
    "    simulation.update()\n",
    "\n",
    "    \n",
    "plt.xlim(0,boxSize)\n",
    "plt.ylim(0,boxSize)"
   ]
  },
  {
   "cell_type": "markdown",
   "metadata": {
    "id": "rIbsUiDiQC5V"
   },
   "source": [
    "Now, we will try to make all birds fly by ploting their flight as an animation.\n",
    "To do so, we will write a numpy script that run the simulation and create a file with the data. Then an other script create the animation, based on this data."
   ]
  },
  {
   "cell_type": "markdown",
   "metadata": {},
   "source": [
    "Format of the data : a table of three dimension (time step, bird, data = (positionX, positionY, theta)) of shape (n_step, N, 3)"
   ]
  },
  {
   "cell_type": "code",
   "execution_count": null,
   "metadata": {},
   "outputs": [],
   "source": []
  },
  {
   "cell_type": "code",
   "execution_count": null,
   "metadata": {},
   "outputs": [],
   "source": []
  }
 ],
 "metadata": {
  "colab": {
   "collapsed_sections": [],
   "name": "PHY571 - Projet Final.ipynb",
   "provenance": []
  },
  "kernelspec": {
   "display_name": "Python 3",
   "language": "python",
   "name": "python3"
  },
  "language_info": {
   "codemirror_mode": {
    "name": "ipython",
    "version": 3
   },
   "file_extension": ".py",
   "mimetype": "text/x-python",
   "name": "python",
   "nbconvert_exporter": "python",
   "pygments_lexer": "ipython3",
   "version": "3.9.6"
  }
 },
 "nbformat": 4,
 "nbformat_minor": 1
}
